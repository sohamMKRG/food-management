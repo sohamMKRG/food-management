{
 "cells": [
  {
   "cell_type": "markdown",
   "id": "c4c5c290-e5d1-47bd-a3ba-df1958033246",
   "metadata": {},
   "source": [
    "# **Project Name**    - Local Food Wastage Management System\n",
    "\n"
   ]
  },
  {
   "cell_type": "markdown",
   "id": "7c75b24b-447d-485a-9cbc-6b8dc14dc793",
   "metadata": {},
   "source": [
    "##### **Project Type**    - EDA\n",
    "##### **Contribution**    - Individual\n",
    "##### **Team Member 1 -** Soham Mukherjee"
   ]
  },
  {
   "cell_type": "markdown",
   "id": "3e88f2d8-2d31-46d7-bf19-b277dd6441a1",
   "metadata": {},
   "source": [
    "# Import Libraries"
   ]
  },
  {
   "cell_type": "code",
   "execution_count": 24,
   "id": "d15040a7-c17e-443b-9e5c-a35a58d8b6a6",
   "metadata": {},
   "outputs": [],
   "source": [
    "import pandas as pd\n",
    "from sqlalchemy import create_engine"
   ]
  },
  {
   "cell_type": "markdown",
   "id": "8d09b66c-7d41-4d55-b5da-6bf923ae708a",
   "metadata": {},
   "source": [
    "#  Database"
   ]
  },
  {
   "cell_type": "code",
   "execution_count": 25,
   "id": "c682deb1-e2d2-4ba2-afcb-6ebdda4391f9",
   "metadata": {},
   "outputs": [
    {
     "name": "stdout",
     "output_type": "stream",
     "text": [
      "Database 'food_wastage.db' created successfully.\n"
     ]
    }
   ],
   "source": [
    "# A function to set up the SQLite database from your CSV files\n",
    "def setup_database():\n",
    "    \"\"\"\n",
    "    Loads CSV data into a SQLite database.\n",
    "    \"\"\"\n",
    "    engine = create_engine('sqlite:///food_wastage.db')\n",
    "\n",
    "    # Load the cleaned data from your CSV files\n",
    "    providers_df = pd.read_csv('providers_cleaned.csv')\n",
    "    receivers_df = pd.read_csv('receivers_cleaned.csv')\n",
    "    food_listings_df = pd.read_csv('food_listings_cleaned.csv')\n",
    "    claims_df = pd.read_csv('claims_cleaned.csv')\n",
    "\n",
    "    # Write the dataframes to SQL tables\n",
    "    providers_df.to_sql('providers', engine, index=False, if_exists='replace')\n",
    "    receivers_df.to_sql('receivers', engine, index=False, if_exists='replace')\n",
    "    food_listings_df.to_sql('food_listings', engine, index=False, if_exists='replace')\n",
    "    claims_df.to_sql('claims', engine, index=False, if_exists='replace')\n",
    "    \n",
    "    return engine\n",
    "\n",
    "# Connect to the database\n",
    "engine = setup_database()\n",
    "print(\"Database 'food_wastage.db' created successfully.\")\n"
   ]
  },
  {
   "cell_type": "markdown",
   "id": "e1c47ff2-dc83-4481-ae31-911b7e1edb32",
   "metadata": {},
   "source": [
    "# Questions to be Answered (SQL Queries & Analysis)"
   ]
  },
  {
   "cell_type": "markdown",
   "id": "07916c64-baae-4eec-8173-ae1af4ab2937",
   "metadata": {},
   "source": [
    "### 1. How many food providers and receivers are there in each city?"
   ]
  },
  {
   "cell_type": "code",
   "execution_count": 26,
   "id": "a981ca61-b8ef-4804-b93e-38048569774e",
   "metadata": {},
   "outputs": [
    {
     "name": "stdout",
     "output_type": "stream",
     "text": [
      "\n",
      "--- Providers by City ---\n",
      "                         City  TotalProviders\n",
      "0    South Christopherborough               3\n",
      "1                   New Carol               3\n",
      "2                 Williamview               2\n",
      "3           West Lauraborough               2\n",
      "4            West Christopher               2\n",
      "..                        ...             ...\n",
      "958          Alexanderchester               1\n",
      "959              Aguirreville               1\n",
      "960                Adamsville               1\n",
      "961                 Adamsview               1\n",
      "962                  Adambury               1\n",
      "\n",
      "[963 rows x 2 columns]\n",
      "\n",
      "--- Receivers by City ---\n",
      "                City  TotalReceivers\n",
      "0    New Christopher               3\n",
      "1       Williamsfort               2\n",
      "2       West Richard               2\n",
      "3         West James               2\n",
      "4        Stevenmouth               2\n",
      "..               ...             ...\n",
      "961    Alexanderbury               1\n",
      "962      Aguilarstad               1\n",
      "963      Aguilarbury               1\n",
      "964         Adamland               1\n",
      "965       Aaronshire               1\n",
      "\n",
      "[966 rows x 2 columns]\n"
     ]
    }
   ],
   "source": [
    "\n",
    "print(\"\\n--- Providers by City ---\")\n",
    "providers_by_city_query = \"SELECT City, COUNT(*) AS TotalProviders FROM providers GROUP BY City ORDER BY TotalProviders DESC;\"\n",
    "providers_by_city_df = pd.read_sql(providers_by_city_query, engine)\n",
    "print(providers_by_city_df)\n",
    "\n",
    "print(\"\\n--- Receivers by City ---\")\n",
    "receivers_by_city_query = \"SELECT City, COUNT(*) AS TotalReceivers FROM receivers GROUP BY City ORDER BY TotalReceivers DESC;\"\n",
    "receivers_by_city_df = pd.read_sql(receivers_by_city_query, engine)\n",
    "print(receivers_by_city_df)"
   ]
  },
  {
   "cell_type": "markdown",
   "id": "f8c0d31c-ff6b-4193-850f-9a6b4cf7bfe8",
   "metadata": {},
   "source": [
    "### 2. Which type of food provider (restaurant, grocery store, etc.) contributes the most food?"
   ]
  },
  {
   "cell_type": "code",
   "execution_count": 27,
   "id": "b2fe5854-4507-43a4-b6b6-132c71ebb286",
   "metadata": {},
   "outputs": [
    {
     "name": "stdout",
     "output_type": "stream",
     "text": [
      "\n",
      "--- Most Contributing Provider Type ---\n",
      "               Type  TotalQuantity\n",
      "0        Restaurant           6923\n",
      "1       Supermarket           6696\n",
      "2  Catering Service           6116\n",
      "3     Grocery Store           6059\n"
     ]
    }
   ],
   "source": [
    "\n",
    "print(\"\\n--- Most Contributing Provider Type ---\")\n",
    "most_contributing_provider_query = \"\"\"\n",
    "    SELECT p.Type, SUM(fl.Quantity) AS TotalQuantity\n",
    "    FROM providers AS p\n",
    "    JOIN food_listings AS fl\n",
    "    ON p.Provider_ID = fl.Provider_ID\n",
    "    GROUP BY p.Type\n",
    "    ORDER BY TotalQuantity DESC;\n",
    "\"\"\"\n",
    "most_contributing_df = pd.read_sql(most_contributing_provider_query, engine)\n",
    "print(most_contributing_df)"
   ]
  },
  {
   "cell_type": "markdown",
   "id": "31953d95-6a0b-41f5-9e62-42c09910a55f",
   "metadata": {},
   "source": [
    "### 3. What is the contact information of food providers in a specific city?"
   ]
  },
  {
   "cell_type": "code",
   "execution_count": 28,
   "id": "47c3d0f7-5921-42ab-b20c-2041939ac704",
   "metadata": {},
   "outputs": [
    {
     "name": "stdout",
     "output_type": "stream",
     "text": [
      "\n",
      "--- Contact Information for Providers in 'New Jessica' ---\n",
      "               Name          Contact\n",
      "0  Gonzales-Cochran  +1-600-220-0480\n"
     ]
    }
   ],
   "source": [
    "\n",
    "# (Replace 'New Jessica' with the city you want to query)\n",
    "print(\"\\n--- Contact Information for Providers in 'New Jessica' ---\")\n",
    "provider_contact_query = \"SELECT Name, Contact FROM providers WHERE City = 'New Jessica';\"\n",
    "provider_contact_df = pd.read_sql(provider_contact_query, engine)\n",
    "print(provider_contact_df)"
   ]
  },
  {
   "cell_type": "markdown",
   "id": "75ee57c2-9a22-4312-9236-bafc567d8672",
   "metadata": {},
   "source": [
    "### 4. Which receivers have claimed the most food?"
   ]
  },
  {
   "cell_type": "code",
   "execution_count": 29,
   "id": "b9e3d6b9-11eb-452b-9f1c-71fa90786861",
   "metadata": {},
   "outputs": [
    {
     "name": "stdout",
     "output_type": "stream",
     "text": [
      "\n",
      "--- Top Receivers by Food Claimed ---\n",
      "               Name  TotalQuantityClaimed\n",
      "0      Matthew Webb                   191\n",
      "1   Donald Caldwell                   174\n",
      "2    Anthony Garcia                   162\n",
      "3      Scott Hunter                   157\n",
      "4   Jennifer Nelson                   139\n",
      "5    Chelsea Powell                   134\n",
      "6     Justin Powell                   126\n",
      "7  Kristina Simpson                   124\n",
      "8        Jose Vance                   123\n",
      "9    Donna Williams                   122\n"
     ]
    }
   ],
   "source": [
    "\n",
    "print(\"\\n--- Top Receivers by Food Claimed ---\")\n",
    "top_receivers_query = \"\"\"\n",
    "    SELECT r.Name, SUM(fl.Quantity) AS TotalQuantityClaimed\n",
    "    FROM receivers AS r\n",
    "    JOIN claims AS c ON r.Receiver_ID = c.Receiver_ID\n",
    "    JOIN food_listings AS fl ON c.Food_ID = fl.Food_ID\n",
    "    GROUP BY r.Name\n",
    "    ORDER BY TotalQuantityClaimed DESC\n",
    "    LIMIT 10;\n",
    "\"\"\"\n",
    "top_receivers_df = pd.read_sql(top_receivers_query, engine)\n",
    "print(top_receivers_df)"
   ]
  },
  {
   "cell_type": "markdown",
   "id": "337bcdba-7a8c-490c-9406-84f992bc4b39",
   "metadata": {},
   "source": [
    "### 5. What is the total quantity of food available from all providers?"
   ]
  },
  {
   "cell_type": "code",
   "execution_count": 30,
   "id": "d74ad4e2-aca2-4ae3-858b-81f311925e57",
   "metadata": {},
   "outputs": [
    {
     "name": "stdout",
     "output_type": "stream",
     "text": [
      "\n",
      "--- Total Quantity of Food Available ---\n",
      "   TotalAvailableFood\n",
      "0               25794\n"
     ]
    }
   ],
   "source": [
    "print(\"\\n--- Total Quantity of Food Available ---\")\n",
    "total_quantity_query = \"SELECT SUM(Quantity) AS TotalAvailableFood FROM food_listings;\"\n",
    "total_quantity_df = pd.read_sql(total_quantity_query, engine)\n",
    "print(total_quantity_df)"
   ]
  },
  {
   "cell_type": "markdown",
   "id": "840c3e43-619e-46d4-80d8-32b615dd04e4",
   "metadata": {},
   "source": [
    "### 6. Which city has the highest number of food listings?"
   ]
  },
  {
   "cell_type": "code",
   "execution_count": 31,
   "id": "01ef3e10-1a82-448f-b608-4453d611de3b",
   "metadata": {},
   "outputs": [
    {
     "name": "stdout",
     "output_type": "stream",
     "text": [
      "\n",
      "--- City with Highest Number of Food Listings ---\n",
      "        Location  NumberOfListings\n",
      "0  South Kathryn                 6\n"
     ]
    }
   ],
   "source": [
    "\n",
    "print(\"\\n--- City with Highest Number of Food Listings ---\")\n",
    "highest_listings_query = \"SELECT Location, COUNT(*) AS NumberOfListings FROM food_listings GROUP BY Location ORDER BY NumberOfListings DESC LIMIT 1;\"\n",
    "highest_listings_df = pd.read_sql(highest_listings_query, engine)\n",
    "print(highest_listings_df)"
   ]
  },
  {
   "cell_type": "markdown",
   "id": "917986de-9f49-42f4-8be9-734003ca1da3",
   "metadata": {},
   "source": [
    "### 7. What are the most commonly available food types?"
   ]
  },
  {
   "cell_type": "code",
   "execution_count": 32,
   "id": "7f07ae95-4f02-4489-9e7c-4cb9ac36e7c6",
   "metadata": {},
   "outputs": [
    {
     "name": "stdout",
     "output_type": "stream",
     "text": [
      "\n",
      "--- Most Commonly Available Food Types ---\n",
      "        Food_Type  NumberOfListings\n",
      "0      Vegetarian               336\n",
      "1           Vegan               334\n",
      "2  Non-Vegetarian               330\n"
     ]
    }
   ],
   "source": [
    "\n",
    "print(\"\\n--- Most Commonly Available Food Types ---\")\n",
    "most_common_food_type_query = \"SELECT Food_Type, COUNT(*) AS NumberOfListings FROM food_listings GROUP BY Food_Type ORDER BY NumberOfListings DESC;\"\n",
    "most_common_food_type_df = pd.read_sql(most_common_food_type_query, engine)\n",
    "print(most_common_food_type_df)"
   ]
  },
  {
   "cell_type": "markdown",
   "id": "777c445e-4554-4784-bf7e-54ca95f43c09",
   "metadata": {},
   "source": [
    "### 8. How many food claims have been made for each food item?"
   ]
  },
  {
   "cell_type": "code",
   "execution_count": 33,
   "id": "20388486-45a3-47c8-b661-d45c22ceae48",
   "metadata": {},
   "outputs": [
    {
     "name": "stdout",
     "output_type": "stream",
     "text": [
      "\n",
      "--- Claims Per Food Item ---\n",
      "    Food_Name  TotalClaims\n",
      "0        Rice          122\n",
      "1        Soup          114\n",
      "2       Dairy          110\n",
      "3        Fish          108\n",
      "4       Salad          106\n",
      "5     Chicken          102\n",
      "6       Bread           94\n",
      "7       Pasta           87\n",
      "8  Vegetables           86\n",
      "9      Fruits           71\n"
     ]
    }
   ],
   "source": [
    "\n",
    "print(\"\\n--- Claims Per Food Item ---\")\n",
    "claims_per_item_query = \"\"\"\n",
    "    SELECT fl.Food_Name, COUNT(c.Claim_ID) AS TotalClaims\n",
    "    FROM food_listings AS fl\n",
    "    JOIN claims AS c\n",
    "    ON fl.Food_ID = c.Food_ID\n",
    "    GROUP BY fl.Food_Name\n",
    "    ORDER BY TotalClaims DESC;\n",
    "\"\"\"\n",
    "claims_per_item_df = pd.read_sql(claims_per_item_query, engine)\n",
    "print(claims_per_item_df)"
   ]
  },
  {
   "cell_type": "markdown",
   "id": "8058f37d-7704-47b1-88d1-55e17e69f70a",
   "metadata": {},
   "source": [
    "### 9. Which provider has had the highest number of successful food claims?"
   ]
  },
  {
   "cell_type": "code",
   "execution_count": 34,
   "id": "6e996e9c-56e2-4d55-85d5-787218d91942",
   "metadata": {},
   "outputs": [
    {
     "name": "stdout",
     "output_type": "stream",
     "text": [
      "\n",
      "--- Provider with Most Successful Claims ---\n",
      "          Name  SuccessfulClaims\n",
      "0  Barry Group                 5\n"
     ]
    }
   ],
   "source": [
    "\n",
    "print(\"\\n--- Provider with Most Successful Claims ---\")\n",
    "top_provider_successful_claims_query = \"\"\"\n",
    "    SELECT p.Name, COUNT(c.Claim_ID) AS SuccessfulClaims\n",
    "    FROM providers AS p\n",
    "    JOIN food_listings AS fl ON p.Provider_ID = fl.Provider_ID\n",
    "    JOIN claims AS c ON fl.Food_ID = c.Food_ID\n",
    "    WHERE c.Status = 'Completed'\n",
    "    GROUP BY p.Name\n",
    "    ORDER BY SuccessfulClaims DESC\n",
    "    LIMIT 1;\n",
    "\"\"\"\n",
    "top_provider_successful_claims_df = pd.read_sql(top_provider_successful_claims_query, engine)\n",
    "print(top_provider_successful_claims_df)"
   ]
  },
  {
   "cell_type": "markdown",
   "id": "cab6e0e2-6579-48fa-bbe1-56a2bb3a74b1",
   "metadata": {},
   "source": [
    "### 10. What percentage of food claims are completed vs. pending vs. canceled?"
   ]
  },
  {
   "cell_type": "code",
   "execution_count": 35,
   "id": "814285ad-5d4b-4208-995f-df8106fdb83c",
   "metadata": {},
   "outputs": [
    {
     "name": "stdout",
     "output_type": "stream",
     "text": [
      "\n",
      "--- Percentage of Claims by Status ---\n",
      "      Status  Percentage\n",
      "0  Cancelled        33.6\n",
      "1  Completed        33.9\n",
      "2    Pending        32.5\n"
     ]
    }
   ],
   "source": [
    "\n",
    "print(\"\\n--- Percentage of Claims by Status ---\")\n",
    "claims_percentage_query = \"\"\"\n",
    "    SELECT\n",
    "        Status,\n",
    "        COUNT(*) * 100.0 / (SELECT COUNT(*) FROM claims) AS Percentage\n",
    "    FROM claims\n",
    "    GROUP BY Status;\n",
    "\"\"\"\n",
    "claims_percentage_df = pd.read_sql(claims_percentage_query, engine)\n",
    "print(claims_percentage_df)"
   ]
  },
  {
   "cell_type": "markdown",
   "id": "dd2921e6-2af3-4f8b-9f1c-38ef6cd952ed",
   "metadata": {},
   "source": [
    "# 11. What is the average quantity of food claimed per receiver?"
   ]
  },
  {
   "cell_type": "code",
   "execution_count": 36,
   "id": "dbe72b1b-0939-48fd-8efb-4cbe979df4ac",
   "metadata": {},
   "outputs": [
    {
     "name": "stdout",
     "output_type": "stream",
     "text": [
      "\n",
      "--- Average Quantity of Food Claimed Per Receiver ---\n",
      "   AverageQuantityPerReceiver\n",
      "0                   41.600962\n"
     ]
    }
   ],
   "source": [
    "\n",
    "print(\"\\n--- Average Quantity of Food Claimed Per Receiver ---\")\n",
    "avg_claimed_per_receiver_query = \"\"\"\n",
    "    SELECT AVG(T.TotalQuantity) AS AverageQuantityPerReceiver\n",
    "    FROM (\n",
    "        SELECT SUM(fl.Quantity) AS TotalQuantity\n",
    "        FROM claims AS c\n",
    "        JOIN food_listings AS fl ON c.Food_ID = fl.Food_ID\n",
    "        GROUP BY c.Receiver_ID\n",
    "    ) AS T;\n",
    "\"\"\"\n",
    "avg_claimed_per_receiver_df = pd.read_sql(avg_claimed_per_receiver_query, engine)\n",
    "print(avg_claimed_per_receiver_df)"
   ]
  },
  {
   "cell_type": "markdown",
   "id": "4dd8a69a-69dc-4678-9d25-77c0ba446c96",
   "metadata": {},
   "source": [
    "### 12. Which meal type (breakfast, lunch, dinner, snacks) is claimed the most?"
   ]
  },
  {
   "cell_type": "code",
   "execution_count": 37,
   "id": "f3ab1d44-9fed-47dd-968e-ff0738167e95",
   "metadata": {},
   "outputs": [
    {
     "name": "stdout",
     "output_type": "stream",
     "text": [
      "\n",
      "--- Most Claimed Meal Type ---\n",
      "   Meal_Type  NumberOfClaims\n",
      "0  Breakfast             278\n"
     ]
    }
   ],
   "source": [
    "\n",
    "print(\"\\n--- Most Claimed Meal Type ---\")\n",
    "most_claimed_meal_type_query = \"\"\"\n",
    "    SELECT fl.Meal_Type, COUNT(c.Claim_ID) AS NumberOfClaims\n",
    "    FROM food_listings AS fl\n",
    "    JOIN claims AS c ON fl.Food_ID = c.Food_ID\n",
    "    GROUP BY fl.Meal_Type\n",
    "    ORDER BY NumberOfClaims DESC\n",
    "    LIMIT 1;\n",
    "\"\"\"\n",
    "most_claimed_meal_type_df = pd.read_sql(most_claimed_meal_type_query, engine)\n",
    "print(most_claimed_meal_type_df)"
   ]
  },
  {
   "cell_type": "markdown",
   "id": "f40756e4-383b-4ee8-8829-4a85375a8636",
   "metadata": {},
   "source": [
    "### 13. What is the total quantity of food donated by each provider?"
   ]
  },
  {
   "cell_type": "code",
   "execution_count": 38,
   "id": "2c3f0504-c1fb-4beb-931b-ca3ad1cbf702",
   "metadata": {},
   "outputs": [
    {
     "name": "stdout",
     "output_type": "stream",
     "text": [
      "\n",
      "--- Total Food Donated by Each Provider ---\n",
      "                         Name  TotalDonatedQuantity\n",
      "0                  Miller Inc                   217\n",
      "1                 Barry Group                   179\n",
      "2  Evans, Wright and Mitchell                   158\n",
      "3                 Smith Group                   150\n",
      "4                Campbell LLC                   145\n",
      "5                  Nelson LLC                   142\n",
      "6                  Ruiz-Oneal                   140\n",
      "7           Blankenship-Lewis                   124\n",
      "8                  Kelly-Ware                   123\n",
      "9           Bradford-Martinez                   121\n"
     ]
    }
   ],
   "source": [
    "\n",
    "print(\"\\n--- Total Food Donated by Each Provider ---\")\n",
    "total_donated_by_provider_query = \"\"\"\n",
    "    SELECT p.Name, SUM(fl.Quantity) AS TotalDonatedQuantity\n",
    "    FROM providers AS p\n",
    "    JOIN food_listings AS fl\n",
    "    ON p.Provider_ID = fl.Provider_ID\n",
    "    GROUP BY p.Name\n",
    "    ORDER BY TotalDonatedQuantity DESC;\n",
    "\"\"\"\n",
    "total_donated_by_provider_df = pd.read_sql(total_donated_by_provider_query, engine)\n",
    "print(total_donated_by_provider_df.head(10))"
   ]
  },
  {
   "cell_type": "markdown",
   "id": "d757d03e-5c18-423b-a0fd-d42c5cb0f6b2",
   "metadata": {},
   "source": [
    "### 14. Top 5 cities with the highest number of food claims"
   ]
  },
  {
   "cell_type": "code",
   "execution_count": 39,
   "id": "492fc690-4821-4ca4-9f3d-2689003136e3",
   "metadata": {},
   "outputs": [
    {
     "name": "stdout",
     "output_type": "stream",
     "text": [
      "\n",
      "--- Top 5 Cities with Highest Number of Claims ---\n",
      "           City  TotalClaims\n",
      "0    West David            5\n",
      "1    Smithshire            5\n",
      "2  Port Richard            5\n",
      "3     Port Dean            5\n",
      "4      Greenton            5\n"
     ]
    }
   ],
   "source": [
    "\n",
    "print(\"\\n--- Top 5 Cities with Highest Number of Claims ---\")\n",
    "top_cities_claims_query = \"\"\"\n",
    "    SELECT r.City, COUNT(c.Claim_ID) AS TotalClaims\n",
    "    FROM claims AS c\n",
    "    JOIN receivers AS r\n",
    "    ON c.Receiver_ID = r.Receiver_ID\n",
    "    GROUP BY r.City\n",
    "    ORDER BY TotalClaims DESC\n",
    "    LIMIT 5;\n",
    "\"\"\"\n",
    "top_cities_claims_df = pd.read_sql(top_cities_claims_query, engine)\n",
    "print(top_cities_claims_df)\n"
   ]
  },
  {
   "cell_type": "markdown",
   "id": "62068277-e03e-4df8-862c-560a6e7342ff",
   "metadata": {},
   "source": [
    "### 15. Average quantity of food per listing, grouped by food type"
   ]
  },
  {
   "cell_type": "code",
   "execution_count": 40,
   "id": "d6d77013-f9a6-46d2-9495-e04b8fc62b3d",
   "metadata": {},
   "outputs": [
    {
     "name": "stdout",
     "output_type": "stream",
     "text": [
      "\n",
      "--- Average Quantity Per Food Type ---\n",
      "        Food_Type  AverageQuantity\n",
      "0  Non-Vegetarian        26.230303\n",
      "1           Vegan        26.341317\n",
      "2      Vegetarian        24.821429\n"
     ]
    }
   ],
   "source": [
    "\n",
    "print(\"\\n--- Average Quantity Per Food Type ---\")\n",
    "avg_quantity_food_type_query = \"\"\"\n",
    "    SELECT Food_Type, AVG(Quantity) AS AverageQuantity\n",
    "    FROM food_listings\n",
    "    GROUP BY Food_Type;\n",
    "\"\"\"\n",
    "avg_quantity_food_type_df = pd.read_sql(avg_quantity_food_type_query, engine)\n",
    "print(avg_quantity_food_type_df)"
   ]
  }
 ],
 "metadata": {
  "kernelspec": {
   "display_name": "Python 3 (ipykernel)",
   "language": "python",
   "name": "python3"
  },
  "language_info": {
   "codemirror_mode": {
    "name": "ipython",
    "version": 3
   },
   "file_extension": ".py",
   "mimetype": "text/x-python",
   "name": "python",
   "nbconvert_exporter": "python",
   "pygments_lexer": "ipython3",
   "version": "3.12.4"
  }
 },
 "nbformat": 4,
 "nbformat_minor": 5
}
